{
  "nbformat": 4,
  "nbformat_minor": 0,
  "metadata": {
    "colab": {
      "name": "Decision_trees-CART.ipynb",
      "provenance": [],
      "authorship_tag": "ABX9TyP6O5qyg6C6X8omXTMNxzsW",
      "include_colab_link": true
    },
    "kernelspec": {
      "name": "python3",
      "display_name": "Python 3"
    },
    "language_info": {
      "name": "python"
    }
  },
  "cells": [
    {
      "cell_type": "markdown",
      "metadata": {
        "id": "view-in-github",
        "colab_type": "text"
      },
      "source": [
        "<a href=\"https://colab.research.google.com/github/JackRab/ML-Model-From-Scratch/blob/main/Decision_trees_CART.ipynb\" target=\"_parent\"><img src=\"https://colab.research.google.com/assets/colab-badge.svg\" alt=\"Open In Colab\"/></a>"
      ]
    },
    {
      "cell_type": "markdown",
      "metadata": {
        "id": "ts1TnGvgaY_O"
      },
      "source": [
        "In this notebook, I try to implement a mini version of decision tree. The specific model I will try to implement is CART, namely classification and regression tree."
      ]
    },
    {
      "cell_type": "code",
      "metadata": {
        "id": "q5vGtUiQaSCj"
      },
      "source": [
        ""
      ],
      "execution_count": null,
      "outputs": []
    }
  ]
}